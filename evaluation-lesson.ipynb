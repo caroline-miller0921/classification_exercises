{
 "cells": [
  {
   "cell_type": "markdown",
   "id": "6bdc59c5",
   "metadata": {},
   "source": [
    "### Evaluation\n",
    "[Course content](https://ds.codeup.com/classification/evaluation/)"
   ]
  },
  {
   "cell_type": "markdown",
   "id": "eae746ca",
   "metadata": {},
   "source": [
    "**Objective:** Understand and apply various metrics used to evaluate the performance of a classification model. "
   ]
  },
  {
   "cell_type": "code",
   "execution_count": 1,
   "id": "8b01baec",
   "metadata": {},
   "outputs": [],
   "source": [
    "import pandas as pd \n",
    "import sklearn.metrics\n",
    "from sklearn.metrics import confusion_matrix"
   ]
  },
  {
   "cell_type": "code",
   "execution_count": 2,
   "id": "5c5b4ee7",
   "metadata": {},
   "outputs": [],
   "source": [
    "### A dataframe which contains predicted values and actual values\n",
    "\n",
    "df = pd.DataFrame({\n",
    "    'actual': ['coffee', 'no coffee', 'no coffee', 'coffee', 'coffee', 'coffee', 'no coffee', 'coffee'],\n",
    "    'prediction': ['no coffee', 'no coffee', 'coffee', 'coffee', 'coffee', 'coffee', 'no coffee', 'no coffee'],\n",
    "})\n"
   ]
  },
  {
   "cell_type": "code",
   "execution_count": 3,
   "id": "27d46e20",
   "metadata": {},
   "outputs": [
    {
     "data": {
      "text/html": [
       "<div>\n",
       "<style scoped>\n",
       "    .dataframe tbody tr th:only-of-type {\n",
       "        vertical-align: middle;\n",
       "    }\n",
       "\n",
       "    .dataframe tbody tr th {\n",
       "        vertical-align: top;\n",
       "    }\n",
       "\n",
       "    .dataframe thead th {\n",
       "        text-align: right;\n",
       "    }\n",
       "</style>\n",
       "<table border=\"1\" class=\"dataframe\">\n",
       "  <thead>\n",
       "    <tr style=\"text-align: right;\">\n",
       "      <th></th>\n",
       "      <th>actual</th>\n",
       "      <th>prediction</th>\n",
       "    </tr>\n",
       "  </thead>\n",
       "  <tbody>\n",
       "    <tr>\n",
       "      <th>0</th>\n",
       "      <td>coffee</td>\n",
       "      <td>no coffee</td>\n",
       "    </tr>\n",
       "    <tr>\n",
       "      <th>1</th>\n",
       "      <td>no coffee</td>\n",
       "      <td>no coffee</td>\n",
       "    </tr>\n",
       "    <tr>\n",
       "      <th>2</th>\n",
       "      <td>no coffee</td>\n",
       "      <td>coffee</td>\n",
       "    </tr>\n",
       "    <tr>\n",
       "      <th>3</th>\n",
       "      <td>coffee</td>\n",
       "      <td>coffee</td>\n",
       "    </tr>\n",
       "    <tr>\n",
       "      <th>4</th>\n",
       "      <td>coffee</td>\n",
       "      <td>coffee</td>\n",
       "    </tr>\n",
       "    <tr>\n",
       "      <th>5</th>\n",
       "      <td>coffee</td>\n",
       "      <td>coffee</td>\n",
       "    </tr>\n",
       "    <tr>\n",
       "      <th>6</th>\n",
       "      <td>no coffee</td>\n",
       "      <td>no coffee</td>\n",
       "    </tr>\n",
       "    <tr>\n",
       "      <th>7</th>\n",
       "      <td>coffee</td>\n",
       "      <td>no coffee</td>\n",
       "    </tr>\n",
       "  </tbody>\n",
       "</table>\n",
       "</div>"
      ],
      "text/plain": [
       "      actual prediction\n",
       "0     coffee  no coffee\n",
       "1  no coffee  no coffee\n",
       "2  no coffee     coffee\n",
       "3     coffee     coffee\n",
       "4     coffee     coffee\n",
       "5     coffee     coffee\n",
       "6  no coffee  no coffee\n",
       "7     coffee  no coffee"
      ]
     },
     "execution_count": 3,
     "metadata": {},
     "output_type": "execute_result"
    }
   ],
   "source": [
    "### View the dataframe\n",
    "df\n",
    "## rememeber the difference between supervised and unsupervised\n",
    "## Learning is the use of labels"
   ]
  },
  {
   "cell_type": "code",
   "execution_count": 13,
   "id": "427ff480",
   "metadata": {},
   "outputs": [],
   "source": [
    "df['correct_prediction'] = df.actual == df.prediction"
   ]
  },
  {
   "cell_type": "code",
   "execution_count": 14,
   "id": "9f38cb78",
   "metadata": {},
   "outputs": [
    {
     "data": {
      "text/html": [
       "<div>\n",
       "<style scoped>\n",
       "    .dataframe tbody tr th:only-of-type {\n",
       "        vertical-align: middle;\n",
       "    }\n",
       "\n",
       "    .dataframe tbody tr th {\n",
       "        vertical-align: top;\n",
       "    }\n",
       "\n",
       "    .dataframe thead th {\n",
       "        text-align: right;\n",
       "    }\n",
       "</style>\n",
       "<table border=\"1\" class=\"dataframe\">\n",
       "  <thead>\n",
       "    <tr style=\"text-align: right;\">\n",
       "      <th></th>\n",
       "      <th>actual</th>\n",
       "      <th>prediction</th>\n",
       "      <th>correct_prediction</th>\n",
       "    </tr>\n",
       "  </thead>\n",
       "  <tbody>\n",
       "    <tr>\n",
       "      <th>0</th>\n",
       "      <td>coffee</td>\n",
       "      <td>no coffee</td>\n",
       "      <td>False</td>\n",
       "    </tr>\n",
       "    <tr>\n",
       "      <th>1</th>\n",
       "      <td>no coffee</td>\n",
       "      <td>no coffee</td>\n",
       "      <td>True</td>\n",
       "    </tr>\n",
       "    <tr>\n",
       "      <th>2</th>\n",
       "      <td>no coffee</td>\n",
       "      <td>coffee</td>\n",
       "      <td>False</td>\n",
       "    </tr>\n",
       "    <tr>\n",
       "      <th>3</th>\n",
       "      <td>coffee</td>\n",
       "      <td>coffee</td>\n",
       "      <td>True</td>\n",
       "    </tr>\n",
       "    <tr>\n",
       "      <th>4</th>\n",
       "      <td>coffee</td>\n",
       "      <td>coffee</td>\n",
       "      <td>True</td>\n",
       "    </tr>\n",
       "    <tr>\n",
       "      <th>5</th>\n",
       "      <td>coffee</td>\n",
       "      <td>coffee</td>\n",
       "      <td>True</td>\n",
       "    </tr>\n",
       "    <tr>\n",
       "      <th>6</th>\n",
       "      <td>no coffee</td>\n",
       "      <td>no coffee</td>\n",
       "      <td>True</td>\n",
       "    </tr>\n",
       "    <tr>\n",
       "      <th>7</th>\n",
       "      <td>coffee</td>\n",
       "      <td>no coffee</td>\n",
       "      <td>False</td>\n",
       "    </tr>\n",
       "  </tbody>\n",
       "</table>\n",
       "</div>"
      ],
      "text/plain": [
       "      actual prediction  correct_prediction\n",
       "0     coffee  no coffee               False\n",
       "1  no coffee  no coffee                True\n",
       "2  no coffee     coffee               False\n",
       "3     coffee     coffee                True\n",
       "4     coffee     coffee                True\n",
       "5     coffee     coffee                True\n",
       "6  no coffee  no coffee                True\n",
       "7     coffee  no coffee               False"
      ]
     },
     "execution_count": 14,
     "metadata": {},
     "output_type": "execute_result"
    }
   ],
   "source": [
    "df"
   ]
  },
  {
   "cell_type": "code",
   "execution_count": 8,
   "id": "db9a6d5c",
   "metadata": {},
   "outputs": [
    {
     "data": {
      "text/html": [
       "<div>\n",
       "<style scoped>\n",
       "    .dataframe tbody tr th:only-of-type {\n",
       "        vertical-align: middle;\n",
       "    }\n",
       "\n",
       "    .dataframe tbody tr th {\n",
       "        vertical-align: top;\n",
       "    }\n",
       "\n",
       "    .dataframe thead th {\n",
       "        text-align: right;\n",
       "    }\n",
       "</style>\n",
       "<table border=\"1\" class=\"dataframe\">\n",
       "  <thead>\n",
       "    <tr style=\"text-align: right;\">\n",
       "      <th>prediction</th>\n",
       "      <th>coffee</th>\n",
       "      <th>no coffee</th>\n",
       "    </tr>\n",
       "    <tr>\n",
       "      <th>actual</th>\n",
       "      <th></th>\n",
       "      <th></th>\n",
       "    </tr>\n",
       "  </thead>\n",
       "  <tbody>\n",
       "    <tr>\n",
       "      <th>coffee</th>\n",
       "      <td>3</td>\n",
       "      <td>2</td>\n",
       "    </tr>\n",
       "    <tr>\n",
       "      <th>no coffee</th>\n",
       "      <td>1</td>\n",
       "      <td>2</td>\n",
       "    </tr>\n",
       "  </tbody>\n",
       "</table>\n",
       "</div>"
      ],
      "text/plain": [
       "prediction  coffee  no coffee\n",
       "actual                       \n",
       "coffee           3          2\n",
       "no coffee        1          2"
      ]
     },
     "execution_count": 8,
     "metadata": {},
     "output_type": "execute_result"
    }
   ],
   "source": [
    "### Use a crosstab to count the outcomes\n",
    "\n",
    "pd.crosstab(df.actual, df.prediction)"
   ]
  },
  {
   "cell_type": "markdown",
   "id": "fdc331d8",
   "metadata": {},
   "source": [
    "### Terminology\n",
    "\n",
    "The two outcomes in classification are labeled as either **positive** or **negative**. \n",
    "\n",
    "\n",
    "While the designations are arbitrary, they impact how evaluation metrics are interpreted. \n"
   ]
  },
  {
   "cell_type": "markdown",
   "id": "6c8c5c27",
   "metadata": {},
   "source": [
    "### Evaluation on train, test, and split\n",
    "\n",
    "\n",
    "| Split |  Purpose |\n",
    "| ----------- | :----------- |\n",
    "| Train | Evaluate in-sample performance|\n",
    "| Validate |  Evaluate out of sample performance to tune hyper-parameters |\n",
    "| Test | Evaluate performance of model |"
   ]
  },
  {
   "cell_type": "markdown",
   "id": "03a265e7",
   "metadata": {},
   "source": [
    "### Confusion Matrix\n",
    "\n",
    "A diagram which summarizes the outcomes of a model. \n",
    "\n",
    "\n",
    "\n",
    "| Designation      | Description |\n",
    "| ----------- | ----------- |\n",
    "| True Negative      | Model correctly predicted the negative outcome       |\n",
    "| False Positive   | Model incorrectly predicted the positive outcome        |\n",
    "| False Negative   | Model incorrectly predicted the negative outcome        |\n",
    "| True Positive      | Model correctly predicted the positive outcome       |\n",
    "\n"
   ]
  },
  {
   "cell_type": "markdown",
   "id": "a53ba95c",
   "metadata": {},
   "source": [
    "### Confusion Matrix with `sklearn`"
   ]
  },
  {
   "cell_type": "markdown",
   "id": "ac4e58a9",
   "metadata": {},
   "source": [
    "'coffee' is the positive outcome`\n",
    "\n",
    "'no coffee' is the negative outcome\n",
    "\n",
    "\n",
    "The function `confusion_matrix` returns a 2x2 array"
   ]
  },
  {
   "cell_type": "markdown",
   "id": "ed64bc14",
   "metadata": {},
   "source": [
    "### Components of a confusion matrix\n",
    " \n",
    " For a confusion matrix $C$,\n",
    "\n",
    "\n",
    "| Index (row, column)      | Count of |\n",
    "| ----------- | ----------- |\n",
    "| $C_{0,0}$      | True Negatives       |\n",
    "| $C_{1,0}$    |   False Negatives      |\n",
    "| $C_{1,1}$    |   True Positives      |\n",
    "| $C_{0,1}$    |   False Positives      |"
   ]
  },
  {
   "cell_type": "code",
   "execution_count": 21,
   "id": "d9ab7dd9",
   "metadata": {},
   "outputs": [
    {
     "data": {
      "text/plain": [
       "array([[2, 1],\n",
       "       [2, 3]])"
      ]
     },
     "execution_count": 21,
     "metadata": {},
     "output_type": "execute_result"
    }
   ],
   "source": [
    "### Return a confusion matrix for the model's predictions\n",
    "confusion_matrix(df.actual, df.prediction, \n",
    "                 labels=('no coffee', 'coffee'))\n",
    "\n",
    "# "
   ]
  },
  {
   "cell_type": "code",
   "execution_count": 48,
   "id": "133039ce",
   "metadata": {},
   "outputs": [
    {
     "data": {
      "text/html": [
       "<div>\n",
       "<style scoped>\n",
       "    .dataframe tbody tr th:only-of-type {\n",
       "        vertical-align: middle;\n",
       "    }\n",
       "\n",
       "    .dataframe tbody tr th {\n",
       "        vertical-align: top;\n",
       "    }\n",
       "\n",
       "    .dataframe thead th {\n",
       "        text-align: right;\n",
       "    }\n",
       "</style>\n",
       "<table border=\"1\" class=\"dataframe\">\n",
       "  <thead>\n",
       "    <tr style=\"text-align: right;\">\n",
       "      <th>prediction</th>\n",
       "      <th>coffee</th>\n",
       "      <th>no coffee</th>\n",
       "    </tr>\n",
       "    <tr>\n",
       "      <th>actual</th>\n",
       "      <th></th>\n",
       "      <th></th>\n",
       "    </tr>\n",
       "  </thead>\n",
       "  <tbody>\n",
       "    <tr>\n",
       "      <th>coffee</th>\n",
       "      <td>3</td>\n",
       "      <td>2</td>\n",
       "    </tr>\n",
       "    <tr>\n",
       "      <th>no coffee</th>\n",
       "      <td>1</td>\n",
       "      <td>2</td>\n",
       "    </tr>\n",
       "  </tbody>\n",
       "</table>\n",
       "</div>"
      ],
      "text/plain": [
       "prediction  coffee  no coffee\n",
       "actual                       \n",
       "coffee           3          2\n",
       "no coffee        1          2"
      ]
     },
     "execution_count": 48,
     "metadata": {},
     "output_type": "execute_result"
    }
   ],
   "source": [
    "pd.crosstab(df.actual, df.prediction)"
   ]
  },
  {
   "cell_type": "markdown",
   "id": "9671d000",
   "metadata": {},
   "source": [
    "### Evaluation Metrics"
   ]
  },
  {
   "cell_type": "markdown",
   "id": "ba22ffe3",
   "metadata": {},
   "source": [
    "### Accuracy \n",
    "\n",
    "Accuracy evaluates how many correct predictions (both positive and negative) were made over the total number of predictions. \n",
    "\n",
    "\n",
    "$\\texttt{Accuracy} = \\dfrac{TP + TN}{TP + FP + FN + TN}$"
   ]
  },
  {
   "cell_type": "markdown",
   "id": "447dda2a",
   "metadata": {},
   "source": [
    "### Precision\n",
    "\n",
    "Precision evaluates how many of the positive predictions were correct.\n",
    "\n",
    "$\\texttt{Precision} = \\dfrac{TP}{TP + FP}$"
   ]
  },
  {
   "cell_type": "markdown",
   "id": "168ec1a6",
   "metadata": {},
   "source": [
    "### Recall\n",
    "\n",
    "Recall evaluates how the model handled all positive outcomes. \n",
    "\n",
    "$\\texttt{Recall} = \\dfrac{TP}{TP + FN}$\n"
   ]
  },
  {
   "cell_type": "markdown",
   "id": "6e0cd4e9",
   "metadata": {},
   "source": [
    "### Misclassification Rate\n",
    "\n",
    "Misclassification rate concerns how many predictions were incorrect. This accounts for all other outcomes not included in the calculation of accuracy. \n",
    "\n",
    "$\\texttt{Misclassification Rate} = 1 - \\texttt{Accuracy}$"
   ]
  },
  {
   "cell_type": "markdown",
   "id": "c7c2ff35",
   "metadata": {},
   "source": [
    "### Sensitivity (True Positive Rate)\n",
    "\n",
    "\n",
    "$\\texttt{True Positive Rate} = \\dfrac{TP}{TP + FN} $"
   ]
  },
  {
   "cell_type": "markdown",
   "id": "9f8ab289",
   "metadata": {},
   "source": [
    "### Specificity \n",
    "\n",
    "How well does the model predict negative outcomes?\n",
    "\n",
    "\n",
    "$\\texttt{Specificity} = \\dfrac{TN}{FP + TN}$"
   ]
  },
  {
   "cell_type": "code",
   "execution_count": null,
   "id": "50ab1564",
   "metadata": {},
   "outputs": [],
   "source": []
  },
  {
   "cell_type": "markdown",
   "id": "19cde0ca",
   "metadata": {},
   "source": [
    "### Negative Predictive Value\n",
    "\n",
    "$\\texttt{NPV} = \\dfrac{TN}{TN + FN}$"
   ]
  },
  {
   "cell_type": "code",
   "execution_count": null,
   "id": "48169b8e",
   "metadata": {},
   "outputs": [],
   "source": []
  },
  {
   "cell_type": "markdown",
   "id": "1287099b",
   "metadata": {},
   "source": [
    "### F1 Score\n",
    "\n",
    "$\\texttt{F1  Score} = 2 * \\dfrac{Precision * Recall}{Precision + Recall}$"
   ]
  },
  {
   "cell_type": "markdown",
   "id": "295c00ff",
   "metadata": {},
   "source": [
    "## Baseline\n",
    "\n",
    "The baseline is a simple model that is a reference point for the performance of other models. \n",
    "\n",
    "For a classification model, a baseline is often the mode.\n",
    "    "
   ]
  },
  {
   "cell_type": "code",
   "execution_count": 23,
   "id": "e1b07798",
   "metadata": {},
   "outputs": [
    {
     "data": {
      "text/plain": [
       "coffee       5\n",
       "no coffee    3\n",
       "Name: actual, dtype: int64"
      ]
     },
     "execution_count": 23,
     "metadata": {},
     "output_type": "execute_result"
    }
   ],
   "source": [
    "### Find the counts of each outcome\n",
    "df.actual.value_counts()"
   ]
  },
  {
   "cell_type": "code",
   "execution_count": 24,
   "id": "c631406f",
   "metadata": {},
   "outputs": [
    {
     "data": {
      "text/html": [
       "<div>\n",
       "<style scoped>\n",
       "    .dataframe tbody tr th:only-of-type {\n",
       "        vertical-align: middle;\n",
       "    }\n",
       "\n",
       "    .dataframe tbody tr th {\n",
       "        vertical-align: top;\n",
       "    }\n",
       "\n",
       "    .dataframe thead th {\n",
       "        text-align: right;\n",
       "    }\n",
       "</style>\n",
       "<table border=\"1\" class=\"dataframe\">\n",
       "  <thead>\n",
       "    <tr style=\"text-align: right;\">\n",
       "      <th></th>\n",
       "      <th>actual</th>\n",
       "      <th>prediction</th>\n",
       "      <th>correct_prediction</th>\n",
       "      <th>baseline</th>\n",
       "    </tr>\n",
       "  </thead>\n",
       "  <tbody>\n",
       "    <tr>\n",
       "      <th>0</th>\n",
       "      <td>coffee</td>\n",
       "      <td>no coffee</td>\n",
       "      <td>False</td>\n",
       "      <td>coffee</td>\n",
       "    </tr>\n",
       "    <tr>\n",
       "      <th>1</th>\n",
       "      <td>no coffee</td>\n",
       "      <td>no coffee</td>\n",
       "      <td>True</td>\n",
       "      <td>coffee</td>\n",
       "    </tr>\n",
       "    <tr>\n",
       "      <th>2</th>\n",
       "      <td>no coffee</td>\n",
       "      <td>coffee</td>\n",
       "      <td>False</td>\n",
       "      <td>coffee</td>\n",
       "    </tr>\n",
       "    <tr>\n",
       "      <th>3</th>\n",
       "      <td>coffee</td>\n",
       "      <td>coffee</td>\n",
       "      <td>True</td>\n",
       "      <td>coffee</td>\n",
       "    </tr>\n",
       "    <tr>\n",
       "      <th>4</th>\n",
       "      <td>coffee</td>\n",
       "      <td>coffee</td>\n",
       "      <td>True</td>\n",
       "      <td>coffee</td>\n",
       "    </tr>\n",
       "    <tr>\n",
       "      <th>5</th>\n",
       "      <td>coffee</td>\n",
       "      <td>coffee</td>\n",
       "      <td>True</td>\n",
       "      <td>coffee</td>\n",
       "    </tr>\n",
       "    <tr>\n",
       "      <th>6</th>\n",
       "      <td>no coffee</td>\n",
       "      <td>no coffee</td>\n",
       "      <td>True</td>\n",
       "      <td>coffee</td>\n",
       "    </tr>\n",
       "    <tr>\n",
       "      <th>7</th>\n",
       "      <td>coffee</td>\n",
       "      <td>no coffee</td>\n",
       "      <td>False</td>\n",
       "      <td>coffee</td>\n",
       "    </tr>\n",
       "  </tbody>\n",
       "</table>\n",
       "</div>"
      ],
      "text/plain": [
       "      actual prediction  correct_prediction baseline\n",
       "0     coffee  no coffee               False   coffee\n",
       "1  no coffee  no coffee                True   coffee\n",
       "2  no coffee     coffee               False   coffee\n",
       "3     coffee     coffee                True   coffee\n",
       "4     coffee     coffee                True   coffee\n",
       "5     coffee     coffee                True   coffee\n",
       "6  no coffee  no coffee                True   coffee\n",
       "7     coffee  no coffee               False   coffee"
      ]
     },
     "execution_count": 24,
     "metadata": {},
     "output_type": "execute_result"
    }
   ],
   "source": [
    "### Set the baseline_prediction to be coffee\n",
    "df['baseline'] = 'coffee'\n",
    "df"
   ]
  },
  {
   "cell_type": "code",
   "execution_count": null,
   "id": "821fa213",
   "metadata": {},
   "outputs": [],
   "source": []
  },
  {
   "cell_type": "markdown",
   "id": "077b1d3d",
   "metadata": {},
   "source": [
    "<div class=\"alert alert-block alert-info\">\n",
    "    \n",
    "### Evaluation Examples"
   ]
  },
  {
   "cell_type": "markdown",
   "id": "30257090",
   "metadata": {},
   "source": [
    "## Accuracy "
   ]
  },
  {
   "cell_type": "code",
   "execution_count": 29,
   "id": "f3c9a639",
   "metadata": {},
   "outputs": [],
   "source": [
    "# Compare predicted to actual\n",
    "\n",
    "model_accuracy = df.correct_prediction.mean()"
   ]
  },
  {
   "cell_type": "code",
   "execution_count": null,
   "id": "30ec94dc",
   "metadata": {},
   "outputs": [],
   "source": [
    "# Compare actual to baseline"
   ]
  },
  {
   "cell_type": "code",
   "execution_count": 28,
   "id": "7fc26a2a",
   "metadata": {},
   "outputs": [
    {
     "data": {
      "text/plain": [
       "0.625"
      ]
     },
     "execution_count": 28,
     "metadata": {},
     "output_type": "execute_result"
    }
   ],
   "source": [
    "(df.actual == df.baseline).mean()"
   ]
  },
  {
   "cell_type": "code",
   "execution_count": 38,
   "id": "c6e2d11f",
   "metadata": {},
   "outputs": [
    {
     "name": "stdout",
     "output_type": "stream",
     "text": [
      "Model accuracy: 62.50%\n"
     ]
    }
   ],
   "source": [
    "print(f'Model accuracy: {model_accuracy:.2%}')"
   ]
  },
  {
   "cell_type": "markdown",
   "id": "c3253203",
   "metadata": {},
   "source": [
    "## Recall"
   ]
  },
  {
   "cell_type": "markdown",
   "id": "5e6e2e45",
   "metadata": {},
   "source": []
  },
  {
   "cell_type": "code",
   "execution_count": 33,
   "id": "0d002965",
   "metadata": {},
   "outputs": [
    {
     "data": {
      "text/html": [
       "<div>\n",
       "<style scoped>\n",
       "    .dataframe tbody tr th:only-of-type {\n",
       "        vertical-align: middle;\n",
       "    }\n",
       "\n",
       "    .dataframe tbody tr th {\n",
       "        vertical-align: top;\n",
       "    }\n",
       "\n",
       "    .dataframe thead th {\n",
       "        text-align: right;\n",
       "    }\n",
       "</style>\n",
       "<table border=\"1\" class=\"dataframe\">\n",
       "  <thead>\n",
       "    <tr style=\"text-align: right;\">\n",
       "      <th></th>\n",
       "      <th>actual</th>\n",
       "      <th>prediction</th>\n",
       "      <th>correct_prediction</th>\n",
       "      <th>baseline</th>\n",
       "    </tr>\n",
       "  </thead>\n",
       "  <tbody>\n",
       "    <tr>\n",
       "      <th>0</th>\n",
       "      <td>coffee</td>\n",
       "      <td>no coffee</td>\n",
       "      <td>False</td>\n",
       "      <td>coffee</td>\n",
       "    </tr>\n",
       "    <tr>\n",
       "      <th>3</th>\n",
       "      <td>coffee</td>\n",
       "      <td>coffee</td>\n",
       "      <td>True</td>\n",
       "      <td>coffee</td>\n",
       "    </tr>\n",
       "    <tr>\n",
       "      <th>4</th>\n",
       "      <td>coffee</td>\n",
       "      <td>coffee</td>\n",
       "      <td>True</td>\n",
       "      <td>coffee</td>\n",
       "    </tr>\n",
       "    <tr>\n",
       "      <th>5</th>\n",
       "      <td>coffee</td>\n",
       "      <td>coffee</td>\n",
       "      <td>True</td>\n",
       "      <td>coffee</td>\n",
       "    </tr>\n",
       "    <tr>\n",
       "      <th>7</th>\n",
       "      <td>coffee</td>\n",
       "      <td>no coffee</td>\n",
       "      <td>False</td>\n",
       "      <td>coffee</td>\n",
       "    </tr>\n",
       "  </tbody>\n",
       "</table>\n",
       "</div>"
      ],
      "text/plain": [
       "   actual prediction  correct_prediction baseline\n",
       "0  coffee  no coffee               False   coffee\n",
       "3  coffee     coffee                True   coffee\n",
       "4  coffee     coffee                True   coffee\n",
       "5  coffee     coffee                True   coffee\n",
       "7  coffee  no coffee               False   coffee"
      ]
     },
     "execution_count": 33,
     "metadata": {},
     "output_type": "execute_result"
    }
   ],
   "source": [
    "# focuses on all the positive values\n",
    "# restrict to postive values ('coffee')\n",
    "\n",
    "subset = df[df.actual == 'coffee']\n",
    "subset"
   ]
  },
  {
   "cell_type": "code",
   "execution_count": 36,
   "id": "02faeb98",
   "metadata": {},
   "outputs": [
    {
     "data": {
      "text/plain": [
       "0.6"
      ]
     },
     "execution_count": 36,
     "metadata": {},
     "output_type": "execute_result"
    }
   ],
   "source": [
    "# model recall\n",
    "\n",
    "model_recall = (subset.prediction == subset.actual).mean()\n",
    "model_recall"
   ]
  },
  {
   "cell_type": "code",
   "execution_count": 37,
   "id": "67d57dfd",
   "metadata": {},
   "outputs": [
    {
     "data": {
      "text/plain": [
       "1.0"
      ]
     },
     "execution_count": 37,
     "metadata": {},
     "output_type": "execute_result"
    }
   ],
   "source": [
    "# Baseline recall\n",
    "\n",
    "baseline_recall = (subset.baseline == subset.actual).mean()\n",
    "baseline_recall`"
   ]
  },
  {
   "cell_type": "code",
   "execution_count": 40,
   "id": "641c684c",
   "metadata": {
    "scrolled": true
   },
   "outputs": [
    {
     "name": "stdout",
     "output_type": "stream",
     "text": [
      "Model Recall: 60.00%\n",
      "Baseline Recall: 100.00%\n"
     ]
    }
   ],
   "source": [
    "print(f'Model Recall: {model_recall:.2%}')\n",
    "print(f'Baseline Recall: {baseline_recall:.2%}')"
   ]
  },
  {
   "cell_type": "markdown",
   "id": "5419b8ba",
   "metadata": {},
   "source": [
    "## Precision"
   ]
  },
  {
   "cell_type": "code",
   "execution_count": 42,
   "id": "e6d9aecc",
   "metadata": {},
   "outputs": [
    {
     "data": {
      "text/html": [
       "<div>\n",
       "<style scoped>\n",
       "    .dataframe tbody tr th:only-of-type {\n",
       "        vertical-align: middle;\n",
       "    }\n",
       "\n",
       "    .dataframe tbody tr th {\n",
       "        vertical-align: top;\n",
       "    }\n",
       "\n",
       "    .dataframe thead th {\n",
       "        text-align: right;\n",
       "    }\n",
       "</style>\n",
       "<table border=\"1\" class=\"dataframe\">\n",
       "  <thead>\n",
       "    <tr style=\"text-align: right;\">\n",
       "      <th></th>\n",
       "      <th>actual</th>\n",
       "      <th>prediction</th>\n",
       "      <th>correct_prediction</th>\n",
       "      <th>baseline</th>\n",
       "    </tr>\n",
       "  </thead>\n",
       "  <tbody>\n",
       "    <tr>\n",
       "      <th>2</th>\n",
       "      <td>no coffee</td>\n",
       "      <td>coffee</td>\n",
       "      <td>False</td>\n",
       "      <td>coffee</td>\n",
       "    </tr>\n",
       "    <tr>\n",
       "      <th>3</th>\n",
       "      <td>coffee</td>\n",
       "      <td>coffee</td>\n",
       "      <td>True</td>\n",
       "      <td>coffee</td>\n",
       "    </tr>\n",
       "    <tr>\n",
       "      <th>4</th>\n",
       "      <td>coffee</td>\n",
       "      <td>coffee</td>\n",
       "      <td>True</td>\n",
       "      <td>coffee</td>\n",
       "    </tr>\n",
       "    <tr>\n",
       "      <th>5</th>\n",
       "      <td>coffee</td>\n",
       "      <td>coffee</td>\n",
       "      <td>True</td>\n",
       "      <td>coffee</td>\n",
       "    </tr>\n",
       "  </tbody>\n",
       "</table>\n",
       "</div>"
      ],
      "text/plain": [
       "      actual prediction  correct_prediction baseline\n",
       "2  no coffee     coffee               False   coffee\n",
       "3     coffee     coffee                True   coffee\n",
       "4     coffee     coffee                True   coffee\n",
       "5     coffee     coffee                True   coffee"
      ]
     },
     "execution_count": 42,
     "metadata": {},
     "output_type": "execute_result"
    }
   ],
   "source": [
    "# restrict to the positive values for the PREDICTED values\n",
    "\n",
    "precision_subset = df[df.prediction == 'coffee']\n",
    "precision_subset"
   ]
  },
  {
   "cell_type": "code",
   "execution_count": 44,
   "id": "42e7efe5",
   "metadata": {},
   "outputs": [
    {
     "data": {
      "text/plain": [
       "0.75"
      ]
     },
     "execution_count": 44,
     "metadata": {},
     "output_type": "execute_result"
    }
   ],
   "source": [
    "# If we want to find the model's precision: we look at prediction and\n",
    "# actual again\n",
    "\n",
    "model_precision = (precision_subset.prediction == precision_subset.actual).mean()\n",
    "model_precision"
   ]
  },
  {
   "cell_type": "code",
   "execution_count": 45,
   "id": "074eac9b",
   "metadata": {},
   "outputs": [],
   "source": [
    "# now lets compare it to the baseline's precision\n",
    "\n",
    "baseline_subset = df[df.baseline == 'coffee']\n",
    "baseline_precision = (baseline_subset.baseline == baseline_subset.actual).mean()"
   ]
  },
  {
   "cell_type": "code",
   "execution_count": 46,
   "id": "929f541d",
   "metadata": {},
   "outputs": [
    {
     "data": {
      "text/plain": [
       "0.625"
      ]
     },
     "execution_count": 46,
     "metadata": {},
     "output_type": "execute_result"
    }
   ],
   "source": [
    "baseline_precision"
   ]
  },
  {
   "cell_type": "code",
   "execution_count": 47,
   "id": "7921235a",
   "metadata": {},
   "outputs": [
    {
     "data": {
      "text/html": [
       "<div>\n",
       "<style scoped>\n",
       "    .dataframe tbody tr th:only-of-type {\n",
       "        vertical-align: middle;\n",
       "    }\n",
       "\n",
       "    .dataframe tbody tr th {\n",
       "        vertical-align: top;\n",
       "    }\n",
       "\n",
       "    .dataframe thead th {\n",
       "        text-align: right;\n",
       "    }\n",
       "</style>\n",
       "<table border=\"1\" class=\"dataframe\">\n",
       "  <thead>\n",
       "    <tr style=\"text-align: right;\">\n",
       "      <th></th>\n",
       "      <th>actual</th>\n",
       "      <th>prediction</th>\n",
       "      <th>correct_prediction</th>\n",
       "      <th>baseline</th>\n",
       "    </tr>\n",
       "  </thead>\n",
       "  <tbody>\n",
       "    <tr>\n",
       "      <th>0</th>\n",
       "      <td>coffee</td>\n",
       "      <td>no coffee</td>\n",
       "      <td>False</td>\n",
       "      <td>coffee</td>\n",
       "    </tr>\n",
       "    <tr>\n",
       "      <th>1</th>\n",
       "      <td>no coffee</td>\n",
       "      <td>no coffee</td>\n",
       "      <td>True</td>\n",
       "      <td>coffee</td>\n",
       "    </tr>\n",
       "    <tr>\n",
       "      <th>2</th>\n",
       "      <td>no coffee</td>\n",
       "      <td>coffee</td>\n",
       "      <td>False</td>\n",
       "      <td>coffee</td>\n",
       "    </tr>\n",
       "    <tr>\n",
       "      <th>3</th>\n",
       "      <td>coffee</td>\n",
       "      <td>coffee</td>\n",
       "      <td>True</td>\n",
       "      <td>coffee</td>\n",
       "    </tr>\n",
       "    <tr>\n",
       "      <th>4</th>\n",
       "      <td>coffee</td>\n",
       "      <td>coffee</td>\n",
       "      <td>True</td>\n",
       "      <td>coffee</td>\n",
       "    </tr>\n",
       "    <tr>\n",
       "      <th>5</th>\n",
       "      <td>coffee</td>\n",
       "      <td>coffee</td>\n",
       "      <td>True</td>\n",
       "      <td>coffee</td>\n",
       "    </tr>\n",
       "    <tr>\n",
       "      <th>6</th>\n",
       "      <td>no coffee</td>\n",
       "      <td>no coffee</td>\n",
       "      <td>True</td>\n",
       "      <td>coffee</td>\n",
       "    </tr>\n",
       "    <tr>\n",
       "      <th>7</th>\n",
       "      <td>coffee</td>\n",
       "      <td>no coffee</td>\n",
       "      <td>False</td>\n",
       "      <td>coffee</td>\n",
       "    </tr>\n",
       "  </tbody>\n",
       "</table>\n",
       "</div>"
      ],
      "text/plain": [
       "      actual prediction  correct_prediction baseline\n",
       "0     coffee  no coffee               False   coffee\n",
       "1  no coffee  no coffee                True   coffee\n",
       "2  no coffee     coffee               False   coffee\n",
       "3     coffee     coffee                True   coffee\n",
       "4     coffee     coffee                True   coffee\n",
       "5     coffee     coffee                True   coffee\n",
       "6  no coffee  no coffee                True   coffee\n",
       "7     coffee  no coffee               False   coffee"
      ]
     },
     "execution_count": 47,
     "metadata": {},
     "output_type": "execute_result"
    }
   ],
   "source": [
    "baseline_subset"
   ]
  }
 ],
 "metadata": {
  "kernelspec": {
   "display_name": "Python 3 (ipykernel)",
   "language": "python",
   "name": "python3"
  },
  "language_info": {
   "codemirror_mode": {
    "name": "ipython",
    "version": 3
   },
   "file_extension": ".py",
   "mimetype": "text/x-python",
   "name": "python",
   "nbconvert_exporter": "python",
   "pygments_lexer": "ipython3",
   "version": "3.9.13"
  }
 },
 "nbformat": 4,
 "nbformat_minor": 5
}
